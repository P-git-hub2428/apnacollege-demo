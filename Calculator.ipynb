{
  "cells": [
    {
      "cell_type": "markdown",
      "metadata": {
        "id": "view-in-github",
        "colab_type": "text"
      },
      "source": [
        "<a href=\"https://colab.research.google.com/github/P-git-hub2428/apnacollege-demo/blob/main/Calculator.ipynb\" target=\"_parent\"><img src=\"https://colab.research.google.com/assets/colab-badge.svg\" alt=\"Open In Colab\"/></a>"
      ]
    },
    {
      "cell_type": "code",
      "execution_count": null,
      "metadata": {
        "colab": {
          "background_save": true,
          "base_uri": "https://localhost:8080/"
        },
        "id": "wAAw71x-VCXJ",
        "outputId": "a7f43e1f-e8d0-48c6-b052-eeac201932e2"
      },
      "outputs": [
        {
          "name": "stdout",
          "output_type": "stream",
          "text": [
            "1-Add\n",
            "2-Subtract\n",
            "3-Multiply\n",
            "4-Divide\n"
          ]
        }
      ],
      "source": [
        "#Calculator by using python\n",
        "print(\"1-Add\")\n",
        "print(\"2-Subtract\")\n",
        "print(\"3-Multiply\")\n",
        "print(\"4-Divide\")\n",
        "option = int(input(\"Choose an operation:\"))\n",
        "if(option in [1,2,3,4]):\n",
        "  num1=int(input(\"Enter first number:\"))\n",
        "  num2=int(input(\"Enter second number:\"))\n",
        "  if(option==1):\n",
        "    result=num1+num2\n",
        "  elif(option==2):\n",
        "    result=num1-num2\n",
        "  elif(option==3):\n",
        "    result=num1*num2\n",
        "  elif(option==4):\n",
        "    result=num1//num2\n",
        "  print(\"The result of the operation is {}\".format(result))\n",
        "else:\n",
        "  print(\"Invalid operation entered\")\n"
      ]
    }
  ],
  "metadata": {
    "colab": {
      "provenance": [],
      "authorship_tag": "ABX9TyOVH6Ek6HwD2byISWDfMzwH",
      "include_colab_link": true
    },
    "kernelspec": {
      "display_name": "Python 3",
      "name": "python3"
    },
    "language_info": {
      "name": "python"
    }
  },
  "nbformat": 4,
  "nbformat_minor": 0
}